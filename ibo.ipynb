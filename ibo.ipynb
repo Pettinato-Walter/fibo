Fibonacci = [1,1]
num = input("inserisci un numero: ")


for i in range (2, int(num)):
    NUM = Fibonacci[i-2] + Fibonacci[i-1]
    Fibonacci.append(NUM)
    print(Fibonacci)


                                    
